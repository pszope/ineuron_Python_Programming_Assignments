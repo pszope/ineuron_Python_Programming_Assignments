{
 "cells": [
  {
   "cell_type": "markdown",
   "id": "1cc5232b",
   "metadata": {},
   "source": [
    "1. Write a Python Program to Find LCM"
   ]
  },
  {
   "cell_type": "code",
   "execution_count": 7,
   "id": "0cf547f1",
   "metadata": {},
   "outputs": [
    {
     "name": "stdout",
     "output_type": "stream",
     "text": [
      "Enter first number: 12\n",
      "Enter second number: 31\n",
      "The L.C.M. of 12 and 31 is 372\n"
     ]
    }
   ],
   "source": [
    "def calculate_lcm(x, y):  \n",
    "    if x > y:  \n",
    "        greater = x  \n",
    "    else:  \n",
    "        greater = y  \n",
    "    while(True):  \n",
    "        if((greater % x == 0) and (greater % y == 0)):  \n",
    "            lcm = greater  \n",
    "            break  \n",
    "        greater += 1  \n",
    "    return lcm    \n",
    "  \n",
    "n1 = int(input(\"Enter first number: \"))  \n",
    "n2 = int(input(\"Enter second number: \"))  \n",
    " \n",
    "print(\"The L.C.M. of\", n1,\"and\", n2,\"is\", calculate_lcm(n1, n2)) "
   ]
  },
  {
   "cell_type": "markdown",
   "id": "a40596ee",
   "metadata": {},
   "source": [
    "2.Write a Python Program to Find HCF"
   ]
  },
  {
   "cell_type": "code",
   "execution_count": 6,
   "id": "d5b9b79a",
   "metadata": {},
   "outputs": [
    {
     "name": "stdout",
     "output_type": "stream",
     "text": [
      "Enter first number: 15\n",
      "Enter second number: 25\n",
      "The H.C.F. of 15 and 25 is 5\n"
     ]
    }
   ],
   "source": [
    "def calculate_hcf(x, y):  \n",
    "    if x > y:  \n",
    "        smaller = y  \n",
    "    else:  \n",
    "        smaller = x  \n",
    "    for i in range(1,smaller + 1):  \n",
    "        if((x % i == 0) and (y % i == 0)):  \n",
    "            hcf = i  \n",
    "    return hcf  \n",
    "   \n",
    "n1 = int(input(\"Enter first number: \"))  \n",
    "n2 = int(input(\"Enter second number: \"))  \n",
    "  \n",
    "print(\"The H.C.F. of\", n1,\"and\", n2,\"is\", calculate_hcf(n1, n2))  "
   ]
  },
  {
   "cell_type": "markdown",
   "id": "7faff196",
   "metadata": {},
   "source": [
    "3.Write a Python Program to Convert Decimal to Binary, Octal and Hexadecimal"
   ]
  },
  {
   "cell_type": "code",
   "execution_count": 4,
   "id": "cc768f26",
   "metadata": {},
   "outputs": [
    {
     "name": "stdout",
     "output_type": "stream",
     "text": [
      "Enter a number: 25\n",
      "The decimal value of 25 is:\n",
      "0b11001 in binary.\n",
      "0o31 in octal.\n",
      "0x19 in hexadecimal.\n"
     ]
    }
   ],
   "source": [
    "Number = int(input(\"Enter a number: \"))\n",
    "\n",
    "print(\"The decimal value of\", Number, \"is:\")\n",
    "print(bin(Number), \"in binary.\")\n",
    "print(oct(Number), \"in octal.\")\n",
    "print(hex(Number), \"in hexadecimal.\")"
   ]
  },
  {
   "cell_type": "markdown",
   "id": "e5ebba4b",
   "metadata": {},
   "source": [
    "4.Write a Python Program to Find ASCII value of a character"
   ]
  },
  {
   "cell_type": "code",
   "execution_count": 2,
   "id": "79a644c9",
   "metadata": {},
   "outputs": [
    {
     "name": "stdout",
     "output_type": "stream",
     "text": [
      "Please enter a character: 5\n",
      "The ASCII value of '5' is  53\n"
     ]
    }
   ],
   "source": [
    "N = input(\"Please enter a character: \")    \n",
    "    \n",
    "print (\"The ASCII value of '\" + N + \"' is \", ord(N))  "
   ]
  },
  {
   "cell_type": "markdown",
   "id": "8fa45e49",
   "metadata": {},
   "source": [
    "5.Write a Python Program to Make a Simple Calculator with 4 basic mathematical operations"
   ]
  },
  {
   "cell_type": "code",
   "execution_count": 9,
   "id": "25e8d4bd",
   "metadata": {},
   "outputs": [
    {
     "name": "stdout",
     "output_type": "stream",
     "text": [
      "Please select the operation.\n",
      "a. Add\n",
      "b. Subtract\n",
      "c. Multiply\n",
      "d. Divide\n",
      "Please enter choice (a/ b/ c/ d): c\n",
      "Please enter the first number: 12\n",
      "Please enter the second number: 5\n",
      "12  *  5  =  60\n"
     ]
    }
   ],
   "source": [
    "def add(P, Q):      \n",
    "    return P + Q   \n",
    "def subtract(P, Q):   \n",
    "    return P - Q   \n",
    "def multiply(P, Q):   \n",
    "    return P * Q   \n",
    "def divide(P, Q):   \n",
    "    return P / Q    \n",
    "   \n",
    "print (\"Please select the operation.\")    \n",
    "print (\"a. Add\")    \n",
    "print (\"b. Subtract\")    \n",
    "print (\"c. Multiply\")    \n",
    "print (\"d. Divide\")    \n",
    "    \n",
    "choice = input(\"Please enter choice (a/ b/ c/ d): \")    \n",
    "    \n",
    "n1 = int (input (\"Please enter the first number: \"))    \n",
    "n2 = int (input (\"Please enter the second number: \"))    \n",
    "    \n",
    "if choice == 'a':    \n",
    "   print (n1, \" + \", n2, \" = \", add(n1, n2))    \n",
    "    \n",
    "elif choice == 'b':    \n",
    "   print (n1, \" - \", n2, \" = \", subtract(n1, n2))    \n",
    "    \n",
    "elif choice == 'c':    \n",
    "   print (n1, \" * \", n2, \" = \", multiply(n1, n2))    \n",
    "elif choice == 'd':    \n",
    "   print (n1, \" / \", n2, \" = \", divide(n1, n2))    \n",
    "else:    \n",
    "   print (\"This is an invalid input\")"
   ]
  }
 ],
 "metadata": {
  "kernelspec": {
   "display_name": "Python 3 (ipykernel)",
   "language": "python",
   "name": "python3"
  },
  "language_info": {
   "codemirror_mode": {
    "name": "ipython",
    "version": 3
   },
   "file_extension": ".py",
   "mimetype": "text/x-python",
   "name": "python",
   "nbconvert_exporter": "python",
   "pygments_lexer": "ipython3",
   "version": "3.9.12"
  }
 },
 "nbformat": 4,
 "nbformat_minor": 5
}
