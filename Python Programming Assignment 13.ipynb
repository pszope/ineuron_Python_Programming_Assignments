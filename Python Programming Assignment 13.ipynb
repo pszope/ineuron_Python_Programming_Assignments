{
 "cells": [
  {
   "cell_type": "markdown",
   "id": "fdba2365",
   "metadata": {},
   "source": [
    "Question 1:\n",
    "\n",
    "Write a program that calculates and prints the value according to the given formula:\n",
    "\n",
    "Q = Square root of [(2 * C * D)/H]\n",
    "\n",
    "Following are the fixed values of C and H:\n",
    "\n",
    "C is 50. H is 30.\n",
    "\n",
    "D is the variable whose values should be input to your program in a comma-separated sequence.\n",
    "\n",
    "Example\n",
    "\n",
    "Let us assume the following comma separated input sequence is given to the program:\n",
    "\n",
    "100,150,180\n",
    "\n",
    "The output of the program should be:\n",
    "\n",
    "18,22,24"
   ]
  },
  {
   "cell_type": "code",
   "execution_count": 6,
   "id": "31b9a2a7",
   "metadata": {},
   "outputs": [
    {
     "name": "stdout",
     "output_type": "stream",
     "text": [
      "Enter the Input: 100,150,180\n",
      "Output: 18,22,24\n"
     ]
    }
   ],
   "source": [
    "from math import sqrt\n",
    "def calculationOutput():\n",
    "    num = eval(input(\"Enter the Input: \"))\n",
    "    output_num = []\n",
    "    C = 50.\n",
    "    H = 30\n",
    "    for i in num:\n",
    "        Q = str(int(sqrt((2*C*i)/H)))\n",
    "        output_num.append(Q)\n",
    "    print(\"Output: {}\".format(','.join(output_num)))\n",
    "    \n",
    "calculationOutput()"
   ]
  },
  {
   "cell_type": "markdown",
   "id": "60c95581",
   "metadata": {},
   "source": [
    "Question 2:\n",
    "\n",
    "Write a program which takes 2 digits, X,Y as input and generates a 2-dimensional array. The element value in the i-th row and j-th column of the array should be i*j.\n",
    "\n",
    "Note: i=0,1.., X-1; j=0,1,¡¬Y-1.\n",
    "\n",
    "Example\n",
    "\n",
    "Suppose the following inputs are given to the program:\n",
    "\n",
    "3,5\n",
    "\n",
    "Then, the output of the program should be:\n",
    "\n",
    "[[0, 0, 0, 0, 0], [0, 1, 2, 3, 4], [0, 2, 4, 6, 8]] "
   ]
  },
  {
   "cell_type": "code",
   "execution_count": 8,
   "id": "8ee59c97",
   "metadata": {},
   "outputs": [
    {
     "name": "stdout",
     "output_type": "stream",
     "text": [
      "Enter No of Rows:3\n",
      "Enter No of Columns:5\n",
      "[[0, 0, 0, 0, 0], [0, 1, 2, 3, 4], [0, 2, 4, 6, 8]]\n"
     ]
    }
   ],
   "source": [
    "import array as ar\n",
    "def createArray():\n",
    "    x = int(input('Enter No of Rows:'))\n",
    "    y = int(input('Enter No of Columns:')) \n",
    "    output_array = []\n",
    "    for i in range(x):\n",
    "        output_array.insert(x,[])\n",
    "        for j in range(y):\n",
    "            output_array[i].append(i*j)\n",
    "    print(output_array)\n",
    "    \n",
    "createArray()"
   ]
  },
  {
   "cell_type": "markdown",
   "id": "d06fb3e4",
   "metadata": {},
   "source": [
    "Question 3:\n",
    "\n",
    "Write a program that accepts a comma separated sequence of words as input and prints the words in a comma-separated sequence after sorting them alphabetically.\n",
    "\n",
    "Suppose the following input is supplied to the program:\n",
    "\n",
    "without,hello,bag,world\n",
    "\n",
    "Then, the output should be:\n",
    "\n",
    "bag,hello,without,world"
   ]
  },
  {
   "cell_type": "code",
   "execution_count": 11,
   "id": "5f109182",
   "metadata": {},
   "outputs": [
    {
     "name": "stdout",
     "output_type": "stream",
     "text": [
      "Input words: without,hello,bag,world\n",
      "bag, hello, without, world\n"
     ]
    }
   ],
   "source": [
    "def sortSequence(): \n",
    "    sequence = input(\"Input words: \")\n",
    "\n",
    "    sequence_list = sequence.split(\",\")\n",
    "    sequence_list.sort()\n",
    "    print((', ').join(sequence_list))\n",
    "    \n",
    "sortSequence()"
   ]
  },
  {
   "cell_type": "markdown",
   "id": "9be4a3b9",
   "metadata": {},
   "source": [
    "Question 4:\n",
    "\n",
    "Write a program that accepts a sequence of whitespace separated words as input and prints the words after removing all duplicate words and sorting them alphanumerically.\n",
    "\n",
    "Suppose the following input is supplied to the program:\n",
    "\n",
    "hello world and practice makes perfect and hello world again\n",
    "\n",
    "Then, the output should be:\n",
    "\n",
    "again and hello makes perfect practice world"
   ]
  },
  {
   "cell_type": "code",
   "execution_count": 17,
   "id": "9bf4e1bc",
   "metadata": {},
   "outputs": [
    {
     "name": "stdout",
     "output_type": "stream",
     "text": [
      "Enter the sequence of words: hello world and practice makes perfect and hello world again\n",
      "again and hello makes perfect practice world\n"
     ]
    }
   ],
   "source": [
    "def sortSequence1():\n",
    "\n",
    "    sequence = input(\"Enter the sequence of words: \")\n",
    "    sequence_splited = sequence.split(' ')\n",
    "\n",
    "    word_list = []\n",
    "    for i in sequence_splited:\n",
    "        if i not in word_list:\n",
    "            word_list.append(i)\n",
    "        else:\n",
    "            continue\n",
    "    word_list.sort()\n",
    "    print((' ').join(word_list))\n",
    "    \n",
    "sortSequence1()"
   ]
  },
  {
   "cell_type": "markdown",
   "id": "1d5380eb",
   "metadata": {},
   "source": [
    "Question 5:\n",
    "\n",
    "Write a program that accepts a sentence and calculate the number of letters and digits.\n",
    "\n",
    "Suppose the following input is supplied to the program:\n",
    "\n",
    "hello world! 123\n",
    "\n",
    "Then, the output should be:\n",
    "\n",
    "LETTERS 10\n",
    "\n",
    "DIGITS 3"
   ]
  },
  {
   "cell_type": "code",
   "execution_count": 18,
   "id": "53d91c1f",
   "metadata": {},
   "outputs": [
    {
     "name": "stdout",
     "output_type": "stream",
     "text": [
      "Enter the sentence: hello world! 123\n",
      "Letters: 10\n",
      "Digits: 3\n"
     ]
    }
   ],
   "source": [
    "def countLetterndigits():\n",
    "    \n",
    "    sentence = input(\"Enter the sentence: \")\n",
    "    sentence = list(sentence)\n",
    "\n",
    "    letter, digit = 0, 0\n",
    "    for i in sentence:\n",
    "        if i.isalpha():\n",
    "            letter = letter + 1\n",
    "        if i.isdigit():\n",
    "            digit = digit + 1\n",
    "        else:\n",
    "            pass\n",
    "\n",
    "    print(\"Letters:\", letter)\n",
    "    print(\"Digits:\", digit)\n",
    "    \n",
    "countLetterndigits()"
   ]
  },
  {
   "cell_type": "markdown",
   "id": "9855c45b",
   "metadata": {},
   "source": [
    "Question 6:\n",
    "\n",
    "A website requires the users to input username and password to register. Write a program to check the validity of password input by users.\n",
    "\n",
    "Following are the criteria for checking the password:\n",
    "\n",
    "1. At least 1 letter between [a-z]\n",
    "\n",
    "2. At least 1 number between [0-9]\n",
    "\n",
    "1. At least 1 letter between [A-Z]\n",
    "\n",
    "3. At least 1 character from [$#@]\n",
    "\n",
    "4. Minimum length of transaction password: 6\n",
    "\n",
    "5. Maximum length of transaction password: 12\n",
    "\n",
    "Your program should accept a sequence of comma separated passwords and will check them according to the above criteria. Passwords that match the criteria are to be printed, each separated by a comma.\n",
    "\n",
    "Example\n",
    "\n",
    "If the following passwords are given as input to the program:\n",
    "\n",
    "ABd1234@1,a F1#,2w3E*,2We3345\n",
    "\n",
    "Then, the output of the program should be:\n",
    "\n",
    "ABd1234@1"
   ]
  },
  {
   "cell_type": "code",
   "execution_count": 19,
   "id": "17ef9f37",
   "metadata": {},
   "outputs": [
    {
     "name": "stdout",
     "output_type": "stream",
     "text": [
      "Enter the Password: ABd1234@1,a F1#,2w3E*,2We3345\n",
      "ABd1234@1\n"
     ]
    }
   ],
   "source": [
    "import re\n",
    "\n",
    "def passwordChecking():\n",
    "    \n",
    "    password = input(\"Enter the Password: \")\n",
    "    password = password.split(\",\")\n",
    "\n",
    "    accepted_pass = []\n",
    "    for i in password:\n",
    "    \n",
    "        if len(i) < 6 or len(i) > 12:\n",
    "            continue\n",
    "\n",
    "        elif not re.search(\"([a-z])+\", i):\n",
    "            continue\n",
    "\n",
    "        elif not re.search(\"([A-Z])+\", i):\n",
    "            continue\n",
    "\n",
    "        elif not re.search(\"([0-9])+\", i):\n",
    "            continue\n",
    "\n",
    "        elif not re.search(\"([!@$%^&])+\", i):\n",
    "            continue\n",
    "\n",
    "        else:\n",
    "            accepted_pass.append(i)\n",
    "\n",
    "    print((\" \").join(accepted_pass))\n",
    "    \n",
    "passwordChecking()"
   ]
  }
 ],
 "metadata": {
  "kernelspec": {
   "display_name": "Python 3 (ipykernel)",
   "language": "python",
   "name": "python3"
  },
  "language_info": {
   "codemirror_mode": {
    "name": "ipython",
    "version": 3
   },
   "file_extension": ".py",
   "mimetype": "text/x-python",
   "name": "python",
   "nbconvert_exporter": "python",
   "pygments_lexer": "ipython3",
   "version": "3.9.12"
  }
 },
 "nbformat": 4,
 "nbformat_minor": 5
}
