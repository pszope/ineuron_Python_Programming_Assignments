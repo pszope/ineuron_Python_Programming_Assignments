{
 "cells": [
  {
   "cell_type": "markdown",
   "id": "ddfbd773",
   "metadata": {},
   "source": [
    "1. Write a Python Program to Add Two Matrices?"
   ]
  },
  {
   "cell_type": "code",
   "execution_count": 5,
   "id": "aa86d2d1",
   "metadata": {},
   "outputs": [
    {
     "name": "stdout",
     "output_type": "stream",
     "text": [
      "[11, 12, 6]\n",
      "[12, 13, 11]\n",
      "[11, 11, 3]\n"
     ]
    }
   ],
   "source": [
    "A = [[8,5,2],\n",
    "    [3,7,6],\n",
    "    [9,4,2]]\n",
    "\n",
    "B = [[3,7,4],\n",
    "    [9,6,5],\n",
    "    [2,7,1]]\n",
    "\n",
    "result = [[0,0,0],\n",
    "         [0,0,0],\n",
    "         [0,0,0]]\n",
    "\n",
    "for i in range(len(A)):\n",
    "    for j in range(len(A[0])):\n",
    "        result[i][j] = A[i][j] + B[i][j]\n",
    "\n",
    "for r in result:\n",
    "    print(r)"
   ]
  },
  {
   "cell_type": "markdown",
   "id": "0f59a7bf",
   "metadata": {},
   "source": [
    "2.\tWrite a Python Program to Multiply Two Matrices?"
   ]
  },
  {
   "cell_type": "code",
   "execution_count": 7,
   "id": "800b937c",
   "metadata": {},
   "outputs": [
    {
     "name": "stdout",
     "output_type": "stream",
     "text": [
      "[69, 64, 16, 63]\n",
      "[93, 136, 30, 164]\n",
      "[101, 127, 34, 54]\n"
     ]
    }
   ],
   "source": [
    "A = [[1,6,7],\n",
    "    [11,9,4],\n",
    "    [3,2,14]]\n",
    "\n",
    "B = [[3,9,2,8],\n",
    "    [4,1,0,8],\n",
    "    [6,7,2,1]]\n",
    "\n",
    "result = [[0,0,0,0],\n",
    "         [0,0,0,0],\n",
    "         [0,0,0,0]]\n",
    "\n",
    "for i in range(len(A)):\n",
    "    for j in range(len(B[0])):\n",
    "        for k in range(len(B)):\n",
    "            result[i][j] += A[i][k] * B[k][j]\n",
    "\n",
    "for r in result:\n",
    "    print(r)\n"
   ]
  },
  {
   "cell_type": "markdown",
   "id": "9c79310c",
   "metadata": {},
   "source": [
    "3.\tWrite a Python Program to Transpose a Matrix?"
   ]
  },
  {
   "cell_type": "code",
   "execution_count": 8,
   "id": "4aa18532",
   "metadata": {},
   "outputs": [
    {
     "name": "stdout",
     "output_type": "stream",
     "text": [
      "[3, 1, 4]\n",
      "[5, 9, 7]\n"
     ]
    }
   ],
   "source": [
    "A = [[3,5],\n",
    "    [1,9],\n",
    "    [4,7]]\n",
    "\n",
    "result = [[0,0,0],\n",
    "         [0,0,0]]\n",
    "\n",
    "for i in range(len(A)):\n",
    "    for j in range(len(A[0])):\n",
    "        result[j][i] = A[i][j]\n",
    "\n",
    "for r in result:\n",
    "    print(r)"
   ]
  },
  {
   "cell_type": "markdown",
   "id": "e47933c2",
   "metadata": {},
   "source": [
    "4.\tWrite a Python Program to Sort Words in Alphabetic Order?"
   ]
  },
  {
   "cell_type": "code",
   "execution_count": 9,
   "id": "d35153e2",
   "metadata": {},
   "outputs": [
    {
     "name": "stdout",
     "output_type": "stream",
     "text": [
      "The sorted words:\n",
      "alphabetical\n",
      "arrange\n",
      "in\n",
      "in\n",
      "order\n",
      "sentense\n",
      "the\n",
      "the\n",
      "words\n"
     ]
    }
   ],
   "source": [
    "string = \"Arrange the words in the sentense in alphabetical order\"\n",
    "\n",
    "words = [word.lower() for word in string.split()]\n",
    "\n",
    "words.sort()\n",
    "\n",
    "print(\"The sorted words:\")\n",
    "for word in words:\n",
    "    print(word)\n"
   ]
  },
  {
   "cell_type": "markdown",
   "id": "b58fb4aa",
   "metadata": {},
   "source": [
    "5.\tWrite a Python Program to Remove Punctuation From a String?"
   ]
  },
  {
   "cell_type": "code",
   "execution_count": 10,
   "id": "6eae57da",
   "metadata": {},
   "outputs": [
    {
     "name": "stdout",
     "output_type": "stream",
     "text": [
      "Enter a string: Oh My God!!!, What? What is that?---\n",
      "Oh My God What What is that\n"
     ]
    }
   ],
   "source": [
    "punctuations = '''!()-[]{};:'\"\\,<>./?@#$%^&*_~'''\n",
    "\n",
    "string = input(\"Enter a string: \")\n",
    "\n",
    "no_punctuation = \"\"\n",
    "for char in string:\n",
    "    if char not in punctuations:\n",
    "        no_punctuation = no_punctuation + char\n",
    "\n",
    "print(no_punctuation)\n"
   ]
  }
 ],
 "metadata": {
  "kernelspec": {
   "display_name": "Python 3 (ipykernel)",
   "language": "python",
   "name": "python3"
  },
  "language_info": {
   "codemirror_mode": {
    "name": "ipython",
    "version": 3
   },
   "file_extension": ".py",
   "mimetype": "text/x-python",
   "name": "python",
   "nbconvert_exporter": "python",
   "pygments_lexer": "ipython3",
   "version": "3.9.12"
  }
 },
 "nbformat": 4,
 "nbformat_minor": 5
}
