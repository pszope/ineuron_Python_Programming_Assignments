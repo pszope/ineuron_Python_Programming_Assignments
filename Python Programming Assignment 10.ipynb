{
 "cells": [
  {
   "cell_type": "markdown",
   "id": "e0f25a00",
   "metadata": {},
   "source": [
    "1.\tWrite a Python program to find sum of elements in list?"
   ]
  },
  {
   "cell_type": "code",
   "execution_count": 3,
   "id": "f88e9803",
   "metadata": {},
   "outputs": [
    {
     "name": "stdout",
     "output_type": "stream",
     "text": [
      "Sum of all elemments in the list: 171\n"
     ]
    }
   ],
   "source": [
    "total = 0\n",
    "list = [12,7,6,9,18,25,43,51]\n",
    "\n",
    "for i in range(0, len(list)):\n",
    "               total = total + list[i]\n",
    "               \n",
    "print(\"Sum of all elemments in the list:\", total)"
   ]
  },
  {
   "cell_type": "markdown",
   "id": "4039b04a",
   "metadata": {},
   "source": [
    "2.\tWrite a Python program to multiply all numbers in the list?"
   ]
  },
  {
   "cell_type": "code",
   "execution_count": 5,
   "id": "87ebd446",
   "metadata": {},
   "outputs": [
    {
     "name": "stdout",
     "output_type": "stream",
     "text": [
      "Multiplication of all elemments in the list: 4476351600\n"
     ]
    }
   ],
   "source": [
    "total = 1\n",
    "list = [12,7,6,9,18,25,43,51]\n",
    "\n",
    "for i in range(0, len(list)):\n",
    "               total = total * list[i]\n",
    "               \n",
    "print(\"Multiplication of all elemments in the list:\", total)"
   ]
  },
  {
   "cell_type": "markdown",
   "id": "509fd7dc",
   "metadata": {},
   "source": [
    "3.\tWrite a Python program to find smallest number in a list?"
   ]
  },
  {
   "cell_type": "code",
   "execution_count": 7,
   "id": "d0ec2cb8",
   "metadata": {},
   "outputs": [
    {
     "name": "stdout",
     "output_type": "stream",
     "text": [
      "Smallest number in the list is: 5\n"
     ]
    }
   ],
   "source": [
    "list = [5,9,51,79,23,49,64]\n",
    "\n",
    "list.sort()\n",
    "\n",
    "print(\"Smallest number in the list is:\", list[0])"
   ]
  },
  {
   "cell_type": "markdown",
   "id": "5c67541f",
   "metadata": {},
   "source": [
    "4.\tWrite a Python program to find largest number in a list?"
   ]
  },
  {
   "cell_type": "code",
   "execution_count": 15,
   "id": "be328b9f",
   "metadata": {},
   "outputs": [
    {
     "name": "stdout",
     "output_type": "stream",
     "text": [
      "Largest number in the list is: 79\n"
     ]
    }
   ],
   "source": [
    "list = [5,9,51,79,23,49,64]\n",
    "\n",
    "list.sort()\n",
    "\n",
    "print(\"Largest number in the list is:\", list[-1])"
   ]
  },
  {
   "cell_type": "markdown",
   "id": "3abaf13f",
   "metadata": {},
   "source": [
    "5.\tWrite a Python program to find second largest number in a list?"
   ]
  },
  {
   "cell_type": "code",
   "execution_count": 16,
   "id": "a2bf2e5d",
   "metadata": {},
   "outputs": [
    {
     "name": "stdout",
     "output_type": "stream",
     "text": [
      "Largest number in the list is: 64\n"
     ]
    }
   ],
   "source": [
    "list = [5,9,51,79,23,49,64]\n",
    "\n",
    "list.sort()\n",
    "\n",
    "print(\"Largest number in the list is:\", list[-2])"
   ]
  },
  {
   "cell_type": "markdown",
   "id": "caeb0b39",
   "metadata": {},
   "source": [
    "6.\tWrite a Python program to find N largest elements from a list?"
   ]
  },
  {
   "cell_type": "code",
   "execution_count": 21,
   "id": "581522b8",
   "metadata": {},
   "outputs": [
    {
     "name": "stdout",
     "output_type": "stream",
     "text": [
      "4 largest element in list: [7, 43, 2, 81, 19, 22, 35, 27, 53, 42, 89]\n",
      "[89, 81, 53, 43]\n"
     ]
    }
   ],
   "source": [
    "def largest_Elements(list,N):\n",
    "        final_list = []\n",
    "        \n",
    "        for i in range(0,N):\n",
    "            max=0\n",
    "            \n",
    "            for j in range(len(list)):\n",
    "                if list[j] > max:\n",
    "                    max = list[j]\n",
    "                    \n",
    "            list.remove(max)\n",
    "            final_list.append(max)\n",
    "            \n",
    "        return final_list\n",
    "    \n",
    "    \n",
    "list1 = [7,43,2,81,19,22,35,27,53,42,89]    \n",
    "N = 4\n",
    "\n",
    "print(N, \"largest element in list:\", list)\n",
    "print(largest_Elements(list1,N))"
   ]
  },
  {
   "cell_type": "markdown",
   "id": "c535875a",
   "metadata": {},
   "source": [
    "7.\tWrite a Python program to print even numbers in a list?"
   ]
  },
  {
   "cell_type": "code",
   "execution_count": 32,
   "id": "5fd5b6f0",
   "metadata": {},
   "outputs": [
    {
     "name": "stdout",
     "output_type": "stream",
     "text": [
      "2 22 42 "
     ]
    }
   ],
   "source": [
    "list = [7, 43, 2, 81, 19, 22, 35, 27, 53, 42, 89]\n",
    "\n",
    "for i in list:\n",
    "        \n",
    "    if i % 2 == 0:\n",
    "        print(i, end = \" \")"
   ]
  },
  {
   "cell_type": "markdown",
   "id": "20da9a38",
   "metadata": {},
   "source": [
    "8.\tWrite a Python program to print odd numbers in a List?"
   ]
  },
  {
   "cell_type": "code",
   "execution_count": 33,
   "id": "245f7a0d",
   "metadata": {},
   "outputs": [
    {
     "name": "stdout",
     "output_type": "stream",
     "text": [
      "7 43 81 19 35 27 53 89 "
     ]
    }
   ],
   "source": [
    "list = [7, 43, 2, 81, 19, 22, 35, 27, 53, 42, 89]\n",
    "\n",
    "for i in list:\n",
    "        \n",
    "    if i % 2 > 0:\n",
    "        print(i, end = \" \")"
   ]
  },
  {
   "cell_type": "markdown",
   "id": "8565900b",
   "metadata": {},
   "source": [
    "9.\tWrite a Python program to Remove empty List from List?"
   ]
  },
  {
   "cell_type": "code",
   "execution_count": 35,
   "id": "7a65df2d",
   "metadata": {},
   "outputs": [
    {
     "name": "stdout",
     "output_type": "stream",
     "text": [
      "List after removing empty lists: [9, 71, 6, 12, 56, 91, 72]\n"
     ]
    }
   ],
   "source": [
    "check_list = [9,71,6,[],[],12,56,91,[],72,[]]\n",
    "\n",
    "final_list = [i for i in check_list if i != []]\n",
    "\n",
    "print(\"List after removing empty lists: \" + str(final_list))"
   ]
  },
  {
   "cell_type": "markdown",
   "id": "f9685fe5",
   "metadata": {},
   "source": [
    "10. Write a Python program to Cloning or Copying a list?"
   ]
  },
  {
   "cell_type": "code",
   "execution_count": 36,
   "id": "d7283d46",
   "metadata": {},
   "outputs": [
    {
     "name": "stdout",
     "output_type": "stream",
     "text": [
      "[7, 43, 2, 81, 19, 22, 35, 27, 53, 42, 89]\n"
     ]
    }
   ],
   "source": [
    "l1 = [7, 43, 2, 81, 19, 22, 35, 27, 53, 42, 89]\n",
    "\n",
    "l2 = l1.copy()\n",
    "\n",
    "print(l2)"
   ]
  },
  {
   "cell_type": "markdown",
   "id": "b6a74908",
   "metadata": {},
   "source": [
    "11. Write a Python program to Count occurrences of an element in a list?"
   ]
  },
  {
   "cell_type": "code",
   "execution_count": 38,
   "id": "d02f9d7a",
   "metadata": {},
   "outputs": [
    {
     "name": "stdout",
     "output_type": "stream",
     "text": [
      "43 has occurred 5 times\n"
     ]
    }
   ],
   "source": [
    "def count_ele(list, x):\n",
    "    count = 0\n",
    "    for i in list:\n",
    "        if (i == x):\n",
    "            count = count + 1\n",
    "    return count\n",
    "\n",
    "\n",
    "list = [7, 43, 2, 43, 19, 43, 35, 27, 43, 42, 43]\n",
    "x = 43\n",
    "print('{} has occurred {} times'.format(x,count_ele(list, x)))\n"
   ]
  }
 ],
 "metadata": {
  "kernelspec": {
   "display_name": "Python 3 (ipykernel)",
   "language": "python",
   "name": "python3"
  },
  "language_info": {
   "codemirror_mode": {
    "name": "ipython",
    "version": 3
   },
   "file_extension": ".py",
   "mimetype": "text/x-python",
   "name": "python",
   "nbconvert_exporter": "python",
   "pygments_lexer": "ipython3",
   "version": "3.9.12"
  }
 },
 "nbformat": 4,
 "nbformat_minor": 5
}
