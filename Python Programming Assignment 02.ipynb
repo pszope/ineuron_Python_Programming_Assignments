{
 "cells": [
  {
   "cell_type": "markdown",
   "id": "b819e04c",
   "metadata": {},
   "source": [
    "### 1.\tWrite a Python program to convert kilometers to miles?"
   ]
  },
  {
   "cell_type": "code",
   "execution_count": 12,
   "id": "4de3f0dd",
   "metadata": {},
   "outputs": [
    {
     "name": "stdout",
     "output_type": "stream",
     "text": [
      "Enter the length in KM: 1\n",
      "0.6214\n"
     ]
    }
   ],
   "source": [
    "len_km = int(input(\"Enter the length in KM: \"))\n",
    "len_miles = (len_km/1.609344)\n",
    "print(round(len_miles,4))"
   ]
  },
  {
   "cell_type": "markdown",
   "id": "753ef67a",
   "metadata": {},
   "source": [
    "### 2.\tWrite a Python program to convert Celsius to Fahrenheit?"
   ]
  },
  {
   "cell_type": "code",
   "execution_count": 4,
   "id": "25787f95",
   "metadata": {},
   "outputs": [
    {
     "name": "stdout",
     "output_type": "stream",
     "text": [
      "Enter the temperature in celcius: 1\n",
      "33.8\n"
     ]
    }
   ],
   "source": [
    "temp_cel = int(input(\"Enter the temperature in celcius: \"))\n",
    "temp_far = (temp_cel * (9/5)) + 32\n",
    "print(temp_far)"
   ]
  },
  {
   "cell_type": "markdown",
   "id": "1525da1b",
   "metadata": {},
   "source": [
    "### 3.\tWrite a Python program to display calendar?"
   ]
  },
  {
   "cell_type": "code",
   "execution_count": 14,
   "id": "f9a2a02e",
   "metadata": {},
   "outputs": [
    {
     "name": "stdout",
     "output_type": "stream",
     "text": [
      "Enter the year: 2022\n",
      "Enter the number of the month: 11\n",
      "   November 2022\n",
      "Mo Tu We Th Fr Sa Su\n",
      "    1  2  3  4  5  6\n",
      " 7  8  9 10 11 12 13\n",
      "14 15 16 17 18 19 20\n",
      "21 22 23 24 25 26 27\n",
      "28 29 30\n",
      "\n"
     ]
    }
   ],
   "source": [
    "#Calendar of the month\n",
    "import calendar\n",
    "\n",
    "year = int(input(\"Enter the year: \"))\n",
    "month = int(input(\"Enter the number of the month: \"))\n",
    "\n",
    "print(calendar.month(year,month))"
   ]
  },
  {
   "cell_type": "code",
   "execution_count": 15,
   "id": "fcba7f4a",
   "metadata": {},
   "outputs": [
    {
     "name": "stdout",
     "output_type": "stream",
     "text": [
      "Enter the year: 2022\n",
      "                                  2022\n",
      "\n",
      "      January                   February                   March\n",
      "Mo Tu We Th Fr Sa Su      Mo Tu We Th Fr Sa Su      Mo Tu We Th Fr Sa Su\n",
      "                1  2          1  2  3  4  5  6          1  2  3  4  5  6\n",
      " 3  4  5  6  7  8  9       7  8  9 10 11 12 13       7  8  9 10 11 12 13\n",
      "10 11 12 13 14 15 16      14 15 16 17 18 19 20      14 15 16 17 18 19 20\n",
      "17 18 19 20 21 22 23      21 22 23 24 25 26 27      21 22 23 24 25 26 27\n",
      "24 25 26 27 28 29 30      28                        28 29 30 31\n",
      "31\n",
      "\n",
      "       April                      May                       June\n",
      "Mo Tu We Th Fr Sa Su      Mo Tu We Th Fr Sa Su      Mo Tu We Th Fr Sa Su\n",
      "             1  2  3                         1             1  2  3  4  5\n",
      " 4  5  6  7  8  9 10       2  3  4  5  6  7  8       6  7  8  9 10 11 12\n",
      "11 12 13 14 15 16 17       9 10 11 12 13 14 15      13 14 15 16 17 18 19\n",
      "18 19 20 21 22 23 24      16 17 18 19 20 21 22      20 21 22 23 24 25 26\n",
      "25 26 27 28 29 30         23 24 25 26 27 28 29      27 28 29 30\n",
      "                          30 31\n",
      "\n",
      "        July                     August                  September\n",
      "Mo Tu We Th Fr Sa Su      Mo Tu We Th Fr Sa Su      Mo Tu We Th Fr Sa Su\n",
      "             1  2  3       1  2  3  4  5  6  7                1  2  3  4\n",
      " 4  5  6  7  8  9 10       8  9 10 11 12 13 14       5  6  7  8  9 10 11\n",
      "11 12 13 14 15 16 17      15 16 17 18 19 20 21      12 13 14 15 16 17 18\n",
      "18 19 20 21 22 23 24      22 23 24 25 26 27 28      19 20 21 22 23 24 25\n",
      "25 26 27 28 29 30 31      29 30 31                  26 27 28 29 30\n",
      "\n",
      "      October                   November                  December\n",
      "Mo Tu We Th Fr Sa Su      Mo Tu We Th Fr Sa Su      Mo Tu We Th Fr Sa Su\n",
      "                1  2          1  2  3  4  5  6                1  2  3  4\n",
      " 3  4  5  6  7  8  9       7  8  9 10 11 12 13       5  6  7  8  9 10 11\n",
      "10 11 12 13 14 15 16      14 15 16 17 18 19 20      12 13 14 15 16 17 18\n",
      "17 18 19 20 21 22 23      21 22 23 24 25 26 27      19 20 21 22 23 24 25\n",
      "24 25 26 27 28 29 30      28 29 30                  26 27 28 29 30 31\n",
      "31\n",
      "\n"
     ]
    }
   ],
   "source": [
    "#Calendar of the year\n",
    "import calendar\n",
    "\n",
    "year = int(input(\"Enter the year: \"))\n",
    "\n",
    "print(calendar.calendar(year))"
   ]
  },
  {
   "cell_type": "markdown",
   "id": "bfd0a431",
   "metadata": {},
   "source": [
    "### 4.\tWrite a P4ython program to solve quadratic equation?"
   ]
  },
  {
   "cell_type": "code",
   "execution_count": 28,
   "id": "65a33862",
   "metadata": {},
   "outputs": [
    {
     "name": "stdout",
     "output_type": "stream",
     "text": [
      "Enter value of a: 4\n",
      "Enter value of b: 3\n",
      "Enter value of c: 9\n",
      "4.0 x^2 + 3.0 x + 9.0 = 0\n",
      "The 2 possible solutions are: (-0.375+1.4523687548277813j) (-0.375-1.4523687548277813j)\n"
     ]
    }
   ],
   "source": [
    "'''Quadratic equation: - a(x*x) + b(x) + c = 0\n",
    "where, x is the variable\n",
    "       a, b, c are the constants\n",
    " When using the quadratic formula, you should be aware of three possibilities.\n",
    "These three possibilities are distinguished by a part of the formula called the discriminant.\n",
    "The discriminant is the value under the radical sign, b^2 – 4 ac.\n",
    "A quadratic equation with real numbers as coefficients can have the following:\n",
    "\n",
    "    1. Two different real roots if the discriminant b^2 – 4 ac is a positive number. \n",
    "    2. One real root if the discriminant b 2 – 4 ac is equal to 0. \n",
    "    3. No real root if the discriminant b 2 – 4 ac is a negative number.'''\n",
    "import cmath\n",
    "\n",
    "a = float(input(\"Enter value of a: \"))\n",
    "b = float(input(\"Enter value of b: \"))\n",
    "c = float(input(\"Enter value of c: \"))\n",
    "\n",
    "#Print the quadratic equation\n",
    "\n",
    "print(a,\"x^2\", \"+\", b, \"x\", \"+\", c, \"=\", \"0\")\n",
    "\n",
    "\n",
    "#Calculate the discriminant\n",
    "\n",
    "di = ((b*b) - 4*a*c)\n",
    "\n",
    "\n",
    "#There are 2 possible solutions for a quadratic equation\n",
    "\n",
    "solution_1 = (-b + cmath.sqrt(di))/(2*a)\n",
    "solution_2 = (-b - cmath.sqrt(di))/(2*a)\n",
    "\n",
    "\n",
    "#Print the solutions\n",
    "\n",
    "print(\"The 2 possible solutions are:\" , solution_1, solution_2)"
   ]
  },
  {
   "cell_type": "markdown",
   "id": "f51ad3f2",
   "metadata": {},
   "source": [
    "### 5.\tWrite a Python program to swap two variables without temp variable?"
   ]
  },
  {
   "cell_type": "code",
   "execution_count": 23,
   "id": "c37936b8",
   "metadata": {},
   "outputs": [
    {
     "name": "stdout",
     "output_type": "stream",
     "text": [
      "Old a:  100\n",
      "Old b:  200\n",
      "\n",
      "New a:  200\n",
      "New b:  100\n"
     ]
    }
   ],
   "source": [
    "a = 100\n",
    "b = 200\n",
    "\n",
    "print(\"Old a: \",a)\n",
    "print(\"Old b: \",b)\n",
    "print()\n",
    "a, b = b, a\n",
    "\n",
    "print(\"New a: \",a)\n",
    "print(\"New b: \",b)"
   ]
  }
 ],
 "metadata": {
  "kernelspec": {
   "display_name": "Python 3 (ipykernel)",
   "language": "python",
   "name": "python3"
  },
  "language_info": {
   "codemirror_mode": {
    "name": "ipython",
    "version": 3
   },
   "file_extension": ".py",
   "mimetype": "text/x-python",
   "name": "python",
   "nbconvert_exporter": "python",
   "pygments_lexer": "ipython3",
   "version": "3.9.12"
  }
 },
 "nbformat": 4,
 "nbformat_minor": 5
}
