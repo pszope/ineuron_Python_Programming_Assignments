{
 "cells": [
  {
   "cell_type": "markdown",
   "id": "49d51b1e",
   "metadata": {},
   "source": [
    "1.\tWrite a Python program to Extract Unique values dictionary values?"
   ]
  },
  {
   "cell_type": "code",
   "execution_count": 5,
   "id": "939a099d",
   "metadata": {},
   "outputs": [
    {
     "name": "stdout",
     "output_type": "stream",
     "text": [
      "Unique Values:  [1, 2, 3, 4, 5, 6, 7, 8, 9, 10, 11, 12, 13, 15]\n"
     ]
    }
   ],
   "source": [
    "d = {'Parth': [1,2,3,4], 'Mohit': [5,6,7,2,3],'Jayesh': [8,9,3,2,4,1], 'Mayur': [10,11,1,3,4,15,2], 'Lumesh': [12,2,4,3,5,13,1]}\n",
    "\n",
    "u_value = list(sorted({i for val in d.values() for i in val}))\n",
    "print(\"Unique Values: \",u_value)"
   ]
  },
  {
   "cell_type": "markdown",
   "id": "f316f915",
   "metadata": {},
   "source": [
    "2.\tWrite a Python program to find the sum of all items in a dictionary?"
   ]
  },
  {
   "cell_type": "code",
   "execution_count": 9,
   "id": "b9fc3e8c",
   "metadata": {},
   "outputs": [
    {
     "name": "stdout",
     "output_type": "stream",
     "text": [
      "75\n"
     ]
    }
   ],
   "source": [
    "dict = {'Parth': 12, 'Mohit': 9,'Jayesh': 13, 'Mayur': 31, 'Lumesh': 10}\n",
    "\n",
    "list = []\n",
    "for i in dict:\n",
    "    list.append(dict[i])\n",
    "total = sum(list)\n",
    "\n",
    "print(total)"
   ]
  },
  {
   "cell_type": "markdown",
   "id": "33ca334d",
   "metadata": {},
   "source": [
    "3.\tWrite a Python program to Merging two Dictionaries?"
   ]
  },
  {
   "cell_type": "code",
   "execution_count": 10,
   "id": "43f29641",
   "metadata": {},
   "outputs": [
    {
     "name": "stdout",
     "output_type": "stream",
     "text": [
      "{'Parth': 12, 'Mohit': 9, 'Jayesh': 13, 'Mayur': 31, 'Lumesh': 10}\n"
     ]
    }
   ],
   "source": [
    "dict1 = {'Parth': 12, 'Mohit': 9,'Jayesh': 13}\n",
    "dict2 = {'Mayur': 31, 'Lumesh': 10}\n",
    "\n",
    "print(dict1 | dict2)"
   ]
  },
  {
   "cell_type": "markdown",
   "id": "c7241ce4",
   "metadata": {},
   "source": [
    "4.\tWrite a Python program to convert key-values list to flat dictionary?"
   ]
  },
  {
   "cell_type": "code",
   "execution_count": 16,
   "id": "19f7e7bc",
   "metadata": {},
   "outputs": [
    {
     "name": "stdout",
     "output_type": "stream",
     "text": [
      "{'A': 1, 'B': 2, 'C': 3, 'D': 4, 'E': 5, 'F': 6}\n"
     ]
    }
   ],
   "source": [
    "list = [('A',1),('B',2),('C',3),('D',4),('E',5),('F',6)]\n",
    "\n",
    "output_dict = {}\n",
    "for i in list:\n",
    "    output_dict[i[0]] = i[1]\n",
    "print(output_dict)"
   ]
  },
  {
   "cell_type": "markdown",
   "id": "ec0870bf",
   "metadata": {},
   "source": [
    "5.\tWrite a Python program to insertion at the beginning in OrderedDict?"
   ]
  },
  {
   "cell_type": "code",
   "execution_count": 20,
   "id": "c39b801c",
   "metadata": {},
   "outputs": [
    {
     "name": "stdout",
     "output_type": "stream",
     "text": [
      "dict_one OrderedDict([('parth', '1'), ('mohit', '2'), ('mayur', '3')])\n",
      "dict_one OrderedDict([('parth', '1'), ('mohit', '2'), ('mayur', '3'), ('kale', '4')])\n",
      "dict_one OrderedDict([('kale', '4'), ('parth', '1'), ('mohit', '2'), ('mayur', '3')])\n"
     ]
    }
   ],
   "source": [
    "from collections import OrderedDict\n",
    "\n",
    "dict_1 = OrderedDict({'parth':'1','mohit':'2','mayur':'3'})\n",
    "print('dict_one',dict_1)\n",
    "\n",
    "dict_2 = {'kale':'4'}\n",
    "dict_1.update(dict_2)\n",
    "print('dict_one',dict_1)\n",
    "\n",
    "dict_1.move_to_end('kale',last=False)\n",
    "print('dict_one',dict_1)"
   ]
  },
  {
   "cell_type": "markdown",
   "id": "55ebf474",
   "metadata": {},
   "source": [
    "6.\tWrite a Python program to check order of character in string using OrderedDict()?"
   ]
  },
  {
   "cell_type": "code",
   "execution_count": 11,
   "id": "2b45b448",
   "metadata": {},
   "outputs": [
    {
     "name": "stdout",
     "output_type": "stream",
     "text": [
      "false\n"
     ]
    }
   ],
   "source": [
    "from collections import OrderedDict\n",
    "\n",
    "def orderChecking(input, pattern):\n",
    "\n",
    "    dict = OrderedDict.fromkeys(input)\n",
    "\n",
    "    string_len = 0\n",
    "    for key,value in dict.items():\n",
    "        if (key == pattern[string_len]):\n",
    "            string_len = string_len + 1\n",
    "\n",
    "        if (string_len == (len(pattern))):\n",
    "            return 'true'\n",
    "\n",
    "    return 'false'\n",
    "\n",
    "if __name__ == \"__main__\":\n",
    "    input = 'parth zope'\n",
    "    pattern = 'rp'\n",
    "    print (orderChecking(input,pattern))\n"
   ]
  },
  {
   "cell_type": "markdown",
   "id": "a1868c06",
   "metadata": {},
   "source": [
    "7.\tWrite a Python program to sort Python Dictionaries by Key or Value?"
   ]
  },
  {
   "cell_type": "code",
   "execution_count": 8,
   "id": "1ab17cba",
   "metadata": {},
   "outputs": [
    {
     "name": "stdout",
     "output_type": "stream",
     "text": [
      "{'Parth': 12, 'Mohit': 9, 'Jayesh': 13, 'Mayur': 31, 'Lumesh': 10}\n",
      "{'Mohit': 9, 'Lumesh': 10, 'Parth': 12, 'Jayesh': 13, 'Mayur': 31}\n"
     ]
    }
   ],
   "source": [
    "from collections import OrderedDict\n",
    "import numpy as np\n",
    "\n",
    "dict = {'Parth': 12, 'Mohit': 9,'Jayesh': 13, 'Mayur': 31, 'Lumesh': 10}\n",
    "print(dict)\n",
    "\n",
    "keys = list(dict.keys())\n",
    "values = list(dict.values())\n",
    "sorted_values = np.argsort(values)\n",
    "sorted_dict = {keys[i]: values[i] for i in sorted_values}\n",
    "\n",
    "print(sorted_dict)"
   ]
  }
 ],
 "metadata": {
  "kernelspec": {
   "display_name": "Python 3 (ipykernel)",
   "language": "python",
   "name": "python3"
  },
  "language_info": {
   "codemirror_mode": {
    "name": "ipython",
    "version": 3
   },
   "file_extension": ".py",
   "mimetype": "text/x-python",
   "name": "python",
   "nbconvert_exporter": "python",
   "pygments_lexer": "ipython3",
   "version": "3.9.12"
  }
 },
 "nbformat": 4,
 "nbformat_minor": 5
}
