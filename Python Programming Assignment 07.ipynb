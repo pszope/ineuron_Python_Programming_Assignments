{
 "cells": [
  {
   "cell_type": "markdown",
   "id": "755b46c8",
   "metadata": {},
   "source": [
    "1. Write a Python Program to find sum of array?"
   ]
  },
  {
   "cell_type": "code",
   "execution_count": 5,
   "id": "37c7acd6",
   "metadata": {},
   "outputs": [
    {
     "name": "stdout",
     "output_type": "stream",
     "text": [
      "Sum of all the elements of an array: 15\n"
     ]
    }
   ],
   "source": [
    "array = [1, 2, 3, 4, 5]     \n",
    "sum = 0    \n",
    "        \n",
    "for i in range(0, len(array)):    \n",
    "    sum = sum + array[i]    \n",
    "     \n",
    "print(\"Sum of all the elements of an array: \" + str(sum))"
   ]
  },
  {
   "cell_type": "markdown",
   "id": "bbe2bdc3",
   "metadata": {},
   "source": [
    "2. Write a Python Program to find largest element in an array?"
   ]
  },
  {
   "cell_type": "code",
   "execution_count": 4,
   "id": "66d61783",
   "metadata": {},
   "outputs": [
    {
     "name": "stdout",
     "output_type": "stream",
     "text": [
      "Largest element in array: 63\n"
     ]
    }
   ],
   "source": [
    "array = [21, 37, 9, 63, 44]\n",
    "      \n",
    "max = array[0] \n",
    "         \n",
    "for i in range(0, len(array)):    \n",
    "    if(array[i] > max):    \n",
    "        max = array[i]    \n",
    "           \n",
    "print(\"Largest element in array: \" + str(max)) "
   ]
  },
  {
   "cell_type": "markdown",
   "id": "9a9ed8be",
   "metadata": {},
   "source": [
    "3. Write a Python Program for array rotation?"
   ]
  },
  {
   "cell_type": "code",
   "execution_count": 3,
   "id": "3cac0c01",
   "metadata": {},
   "outputs": [
    {
     "name": "stdout",
     "output_type": "stream",
     "text": [
      "Array after left rotation is:  [4, 5, 6, 7, 1, 2, 3]\n"
     ]
    }
   ],
   "source": [
    "def rotatedArray(a,b):\n",
    "    temp = []\n",
    "    n=len(a)\n",
    "    for i in range(b,n):\n",
    "        temp.append(a[i])\n",
    "    i = 0\n",
    "    for i in range (0,b):\n",
    "        temp.append(a[i])\n",
    "    a=temp.copy()\n",
    "    return a\n",
    " \n",
    "array = [1, 2, 3, 4, 5, 6, 7]\n",
    "print(\"Array after left rotation is: \", end=' ')\n",
    "print(rotatedArray(array, 3))"
   ]
  },
  {
   "cell_type": "markdown",
   "id": "6b2512e8",
   "metadata": {},
   "source": [
    "4. Write a Python Program to Split the array and add the first part to the end?"
   ]
  },
  {
   "cell_type": "code",
   "execution_count": 5,
   "id": "ec3af1bb",
   "metadata": {},
   "outputs": [
    {
     "name": "stdout",
     "output_type": "stream",
     "text": [
      "16 50 36 15 40 15 "
     ]
    }
   ],
   "source": [
    "def SplitArray(arr, n, k):\n",
    "    for i in range(0, k):\n",
    "        x = arr[0]\n",
    "        for j in range(0, n-1):\n",
    "            arr[j] = arr[j + 1]\n",
    "\n",
    "        arr[n-1] = x\n",
    "arr = [15, 40, 15, 16, 50, 36]\n",
    "n = len(arr)\n",
    "position = 3\n",
    "SplitArray(arr, n, position)\n",
    "for i in range(0, n):\n",
    "    print(arr[i], end = ' ')"
   ]
  },
  {
   "cell_type": "markdown",
   "id": "f2d6dd9b",
   "metadata": {},
   "source": [
    "5. Write a Python Program to check if given array is Monotonic?"
   ]
  },
  {
   "cell_type": "code",
   "execution_count": 6,
   "id": "a7f5c476",
   "metadata": {},
   "outputs": [
    {
     "name": "stdout",
     "output_type": "stream",
     "text": [
      "True\n",
      "False\n",
      "True\n",
      "True\n"
     ]
    }
   ],
   "source": [
    "def ismonotone(a):\n",
    "    n=len(a)\n",
    "    if n==1:\n",
    "        return True\n",
    "    else:\n",
    "        if all(a[i]>=a[i+1] for i in range(0,n-1) or a[i]<=a[i+1] for i in range(0,n-1)):\n",
    "            return True\n",
    "        else:\n",
    "            return False\n",
    "\n",
    "A = [6, 5, 4, 2]\n",
    "print(ismonotone(A))\n",
    "B = [6, 2, 4, 2]\n",
    "print(ismonotone(B))\n",
    "C=[4,3,2]\n",
    "print(ismonotone(C))\n",
    "D=[1]\n",
    "print(ismonotone(D))\n"
   ]
  }
 ],
 "metadata": {
  "kernelspec": {
   "display_name": "Python 3 (ipykernel)",
   "language": "python",
   "name": "python3"
  },
  "language_info": {
   "codemirror_mode": {
    "name": "ipython",
    "version": 3
   },
   "file_extension": ".py",
   "mimetype": "text/x-python",
   "name": "python",
   "nbconvert_exporter": "python",
   "pygments_lexer": "ipython3",
   "version": "3.9.12"
  }
 },
 "nbformat": 4,
 "nbformat_minor": 5
}
