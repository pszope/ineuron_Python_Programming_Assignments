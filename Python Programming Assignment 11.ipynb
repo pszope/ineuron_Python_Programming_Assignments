{
 "cells": [
  {
   "cell_type": "markdown",
   "id": "3ff73056",
   "metadata": {},
   "source": [
    "1.\tWrite a Python program to find words which are greater than given length k?"
   ]
  },
  {
   "cell_type": "code",
   "execution_count": 13,
   "id": "e70b8ec9",
   "metadata": {},
   "outputs": [
    {
     "name": "stdout",
     "output_type": "stream",
     "text": [
      "Enter the string: I am learning data skills to become a data analyst\n",
      "Enter the length of the string: 3\n",
      "learning,data,skills,become,data,analyst\n"
     ]
    }
   ],
   "source": [
    "def checkLengthOfString():\n",
    "    the_string = input(\"Enter the string: \")\n",
    "    length = int(input('Enter the length of the string: '))\n",
    "    output_string = []\n",
    "    for string in the_string.split(\" \"):\n",
    "        if len(string) > length:\n",
    "            output_string.append(string)\n",
    "    print(','.join(output_string))\n",
    "\n",
    "checkLengthOfString()"
   ]
  },
  {
   "cell_type": "markdown",
   "id": "b91b070f",
   "metadata": {},
   "source": [
    "2.\tWrite a Python program for removing i-th character from a string?"
   ]
  },
  {
   "cell_type": "code",
   "execution_count": 11,
   "id": "0b91b163",
   "metadata": {},
   "outputs": [
    {
     "name": "stdout",
     "output_type": "stream",
     "text": [
      "Enter the String: parth\n",
      "Enter the ith Character: 2\n",
      "path\n"
     ]
    }
   ],
   "source": [
    "def removeCharacter():\n",
    "    the_string = input(\"Enter the String: \")\n",
    "    char_num = int(input(\"Enter the ith Character: \"))\n",
    "    output_string = ''\n",
    "    for i in range(len(the_string)):\n",
    "        if i != char_num:\n",
    "            output_string = output_string + the_string[i]\n",
    "    print(output_string)\n",
    "    \n",
    "removeCharacter()"
   ]
  },
  {
   "cell_type": "markdown",
   "id": "ec6bb769",
   "metadata": {},
   "source": [
    "3.\tWrite a Python program to split and join a string?"
   ]
  },
  {
   "cell_type": "code",
   "execution_count": 7,
   "id": "265d9fc4",
   "metadata": {},
   "outputs": [
    {
     "name": "stdout",
     "output_type": "stream",
     "text": [
      "Enter the string: parth sanjay zope\n",
      "Split String: ['parth', 'sanjay', 'zope']\n",
      "Join String: parth sanjay zope\n"
     ]
    }
   ],
   "source": [
    "def splitJoinString():\n",
    "    the_string = input('Enter the string: ')\n",
    "    print(f\"Split String: {the_string.split(' ')}\")\n",
    "    print(f\"Join String: {' '.join(the_string.split(' '))}\")\n",
    "\n",
    "splitJoinString()"
   ]
  },
  {
   "cell_type": "markdown",
   "id": "e531488c",
   "metadata": {},
   "source": [
    "4.\tWrite a Python to check if a given string is binary string or not?"
   ]
  },
  {
   "cell_type": "code",
   "execution_count": 10,
   "id": "676e5e67",
   "metadata": {},
   "outputs": [
    {
     "name": "stdout",
     "output_type": "stream",
     "text": [
      "Enter the string: 1010101010\n",
      "1010101010 is a binary string\n"
     ]
    }
   ],
   "source": [
    "def checkBinary():\n",
    "    the_string = input('Enter the string: ')\n",
    "    stun = 0\n",
    "    for i in the_string:\n",
    "        if i in ['0','1']:\n",
    "            stun = 1\n",
    "            continue\n",
    "        else:\n",
    "            stun = 0\n",
    "            break\n",
    "    statement = 'is a binary string' if stun == 1 else 'is not a binary string' \n",
    "    print(f'{the_string} {statement}')\n",
    "\n",
    "checkBinary()"
   ]
  },
  {
   "cell_type": "markdown",
   "id": "b1ea7bf5",
   "metadata": {},
   "source": [
    "5.\tWrite a Python program to find uncommon words from two Strings?"
   ]
  },
  {
   "cell_type": "code",
   "execution_count": 6,
   "id": "9e7f78a8",
   "metadata": {},
   "outputs": [
    {
     "name": "stdout",
     "output_type": "stream",
     "text": [
      "Enter the String 1: machine learning\n",
      "Enter the String 2: advanced machine learning\n",
      "{'advanced'}\n"
     ]
    }
   ],
   "source": [
    "def unCommonWords():\n",
    "    string_1 = set(input(\"Enter the String 1: \").split(' '))\n",
    "    string_2 = set(input(\"Enter the String 2: \").split(' '))\n",
    "    output_string = (string_1.union(string_2)).difference(string_1.intersection(string_2))\n",
    "    print(output_string)\n",
    "\n",
    "unCommonWords()"
   ]
  },
  {
   "cell_type": "markdown",
   "id": "ccf9043b",
   "metadata": {},
   "source": [
    "6.\tWrite a Python to find all duplicate characters in string?"
   ]
  },
  {
   "cell_type": "code",
   "execution_count": 5,
   "id": "ba263b1b",
   "metadata": {},
   "outputs": [
    {
     "name": "stdout",
     "output_type": "stream",
     "text": [
      "Enter the string: I will be there in time at the program of your wedding anniversary\n",
      "Duplicate characters are: ['a', 'l', 'd', 'o', 'h', 'g', 'n', 'r', 'i', 'y', ' ', 't', 'm', 'w', 'e']\n"
     ]
    }
   ],
   "source": [
    "def duplicateChars():\n",
    "    the_string = input('Enter the string: ')\n",
    "    non_duplicate_list = []\n",
    "    duplicate_list = []\n",
    "    for i in the_string:\n",
    "        if i not in non_duplicate_list:\n",
    "            non_duplicate_list.append(i)\n",
    "        else:\n",
    "            duplicate_list.append(i)\n",
    "    print(f'Duplicate characters are: {list(set(duplicate_list))}')\n",
    "        \n",
    "duplicateChars()"
   ]
  },
  {
   "cell_type": "markdown",
   "id": "62cd8337",
   "metadata": {},
   "source": [
    "7.\tWrite a Python Program to check if a string contains any special character?"
   ]
  },
  {
   "cell_type": "code",
   "execution_count": 3,
   "id": "74508270",
   "metadata": {},
   "outputs": [
    {
     "name": "stdout",
     "output_type": "stream",
     "text": [
      "Enter the string: ghjtty67j6#$%^&\\][)(\n",
      "There are 10 Speical Characters in ghjtty67j6#$%^&\\][)( which are ['#', '$', '%', '^', '&', '\\\\', ']', '[', ')', '(']\n"
     ]
    }
   ],
   "source": [
    "def checkSpecialChar():\n",
    "    sp_chars = '[@_!#$%^&*<>?/\\|{}()~:]'\n",
    "    the_string = input('Enter the string: ')\n",
    "    count = 0\n",
    "    char_list = []\n",
    "    for i in the_string:\n",
    "        if i in sp_chars:\n",
    "            char_list.append(i)\n",
    "            count = count+1\n",
    "    print(f'There are {count} Speical Characters in {the_string} which are {char_list}')\n",
    "            \n",
    "        \n",
    "checkSpecialChar()"
   ]
  }
 ],
 "metadata": {
  "kernelspec": {
   "display_name": "Python 3 (ipykernel)",
   "language": "python",
   "name": "python3"
  },
  "language_info": {
   "codemirror_mode": {
    "name": "ipython",
    "version": 3
   },
   "file_extension": ".py",
   "mimetype": "text/x-python",
   "name": "python",
   "nbconvert_exporter": "python",
   "pygments_lexer": "ipython3",
   "version": "3.9.12"
  }
 },
 "nbformat": 4,
 "nbformat_minor": 5
}
