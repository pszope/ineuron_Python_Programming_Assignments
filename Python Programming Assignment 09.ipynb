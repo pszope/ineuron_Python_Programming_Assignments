{
 "cells": [
  {
   "cell_type": "markdown",
   "id": "55ef1174",
   "metadata": {},
   "source": [
    "1.\tWrite a Python program to check if the given number is a Disarium Number?"
   ]
  },
  {
   "cell_type": "code",
   "execution_count": 14,
   "id": "448da2b3",
   "metadata": {},
   "outputs": [
    {
     "name": "stdout",
     "output_type": "stream",
     "text": [
      "Enter the number :5\n",
      "5 is a Disarium number\n"
     ]
    }
   ],
   "source": [
    "def is_Disarium(num):\n",
    "    sum = 0\n",
    "    while(num>0):\n",
    "        l= len(str(num))\n",
    "        no = num%10\n",
    "        sum= sum + no**l   \n",
    "        l-=1\n",
    "        num = num//10\n",
    "    return sum\n",
    "\n",
    "num = int(input(\"Enter the number :\"))\n",
    "\n",
    "\n",
    "sum = is_Disarium(num)\n",
    "if sum == num:\n",
    "    print(num,\"is a Disarium number\")\n",
    "else:\n",
    "    print(num,\"is not a Disarium number\")"
   ]
  },
  {
   "cell_type": "markdown",
   "id": "4b52b3da",
   "metadata": {},
   "source": [
    "2.\tWrite a Python program to print all disarium numbers between 1 to 100?"
   ]
  },
  {
   "cell_type": "code",
   "execution_count": 16,
   "id": "08ec0b92",
   "metadata": {},
   "outputs": [
    {
     "name": "stdout",
     "output_type": "stream",
     "text": [
      "Disarium numbers in range 1 to 100\n",
      "[1, 2, 3, 4, 5, 6, 7, 8, 9, 89]\n"
     ]
    }
   ],
   "source": [
    "def is_Disarium(num):\n",
    "    sum = 0\n",
    "    while(num>0):\n",
    "        l= len(str(num))\n",
    "        no = num%10\n",
    "        sum= sum + no**l   \n",
    "        l-=1\n",
    "        num = num//10\n",
    "    return sum\n",
    "\n",
    "print(\"Disarium numbers in range 1 to 100\")\n",
    "\n",
    "dis_number = []\n",
    "\n",
    "for i in range(1,101):\n",
    "    sum = 0\n",
    "    sum = is_Disarium(i)\n",
    "    if sum == i:\n",
    "        dis_number.append(i)        \n",
    "print(dis_number)"
   ]
  },
  {
   "cell_type": "markdown",
   "id": "9a8cabd8",
   "metadata": {},
   "source": [
    "3.\tWrite a Python program to check if the given number is Happy Number?"
   ]
  },
  {
   "cell_type": "code",
   "execution_count": 18,
   "id": "86f48545",
   "metadata": {},
   "outputs": [
    {
     "name": "stdout",
     "output_type": "stream",
     "text": [
      "Enter the number :46\n",
      "46  is not a happy Number\n"
     ]
    }
   ],
   "source": [
    "def is_Happy(num):\n",
    "    sum = 0\n",
    "    while(num>0):\n",
    "        dig = num%10\n",
    "        sum= sum + dig**2        \n",
    "        num = num//10\n",
    "    return sum\n",
    "\n",
    "num = int(input(\"Enter the number :\"))\n",
    "result = num\n",
    "\n",
    "\n",
    "while (result != 1 and result != 4):\n",
    "    result = is_Happy(result)\n",
    "\n",
    "if result == 1:\n",
    "    print(num,\"is a Happy Number\")\n",
    "else:\n",
    "    print(num,\" is not a happy Number\")"
   ]
  },
  {
   "cell_type": "markdown",
   "id": "f8f1eafd",
   "metadata": {},
   "source": [
    "4.\tWrite a Python program to print all happy numbers between 1 and 100?"
   ]
  },
  {
   "cell_type": "code",
   "execution_count": 19,
   "id": "e4ab6237",
   "metadata": {},
   "outputs": [
    {
     "name": "stdout",
     "output_type": "stream",
     "text": [
      "Happy numbers in range 1 to 100\n",
      "[1, 7, 10, 13, 19, 23, 28, 31, 32, 44, 49, 68, 70, 79, 82, 86, 91, 94, 97, 100]\n"
     ]
    }
   ],
   "source": [
    "def is_Happy(num):\n",
    "    sum = 0\n",
    "    while(num>0):\n",
    "        dig = num%10\n",
    "        sum= sum + dig**2        \n",
    "        num = num//10\n",
    "    return sum\n",
    "\n",
    "print(\"Happy numbers in range 1 to 100\")\n",
    "result=num=i=0\n",
    "happyNumber = []\n",
    "for i in range(1,101):\n",
    "    result = i\n",
    "    while (result != 1 and result != 4):\n",
    "        result = is_Happy(result)    \n",
    "    if result == 1:\n",
    "        happyNumber.append(i)\n",
    "print(happyNumber)"
   ]
  },
  {
   "cell_type": "markdown",
   "id": "c4525035",
   "metadata": {},
   "source": [
    "5.\tWrite a Python program to determine whether the given number is a Harshad Number?"
   ]
  },
  {
   "cell_type": "code",
   "execution_count": 20,
   "id": "76d6bfa6",
   "metadata": {},
   "outputs": [
    {
     "name": "stdout",
     "output_type": "stream",
     "text": [
      "Enter no. :56\n",
      "56 is not a Harshad number\n"
     ]
    }
   ],
   "source": [
    "def is_Harshad(num):\n",
    "    sum = 0\n",
    "    while(num>0):\n",
    "        dig = num%10\n",
    "        sum= sum + dig      \n",
    "        num = num//10\n",
    "    return sum\n",
    "\n",
    "num = int(input(\"Enter no. :\"))\n",
    "sum = is_Harshad(num)\n",
    "\n",
    "if num % sum == 0:\n",
    "    print(num,\"is a Harshad number\")\n",
    "else:\n",
    "    print(num,\"is not a Harshad number\")"
   ]
  },
  {
   "cell_type": "markdown",
   "id": "7c14354a",
   "metadata": {},
   "source": [
    "6.\tWrite a Python program to print all pronic numbers between 1 and 100?"
   ]
  },
  {
   "cell_type": "code",
   "execution_count": 21,
   "id": "efc05c77",
   "metadata": {},
   "outputs": [
    {
     "name": "stdout",
     "output_type": "stream",
     "text": [
      "Pronic numbers in range 1 to 100\n",
      "[2, 6, 12, 20, 30, 42, 56, 72, 90]\n"
     ]
    }
   ],
   "source": [
    "def is_Pronic(num):\n",
    "    Pronic = False\n",
    "    for i in range(1,num+1):\n",
    "        if i*(i+1) == num:\n",
    "            Pronic = True\n",
    "            break\n",
    "    return Pronic\n",
    "\n",
    "print(\"Pronic numbers in range 1 to 100\")\n",
    "pronic_number = []\n",
    "for i in range(1,101):\n",
    "    if is_Pronic(i):\n",
    "        pronic_number.append(i)\n",
    "print(pronic_number)"
   ]
  },
  {
   "cell_type": "markdown",
   "id": "a773e814",
   "metadata": {},
   "source": [
    "A Disarium number is a number defined by the following process: Sum of its digits powered with their respective position is equal to the original number.\n",
    "\n",
    "A happy number is defined by the following process: Starting with any positive integer, replace the number by the sum of the squares of its digits, and repeat the process until the number equals 1 (where it will stay), or it loops endlessly in a cycle which does not include 1.\n",
    "\n",
    "If a number is divisible by the sum of its digits, then it will be known as a Harshad Number.\n",
    "\n",
    "The pronic number is a product of two consecutive integers of the form: n(n+1)."
   ]
  }
 ],
 "metadata": {
  "kernelspec": {
   "display_name": "Python 3 (ipykernel)",
   "language": "python",
   "name": "python3"
  },
  "language_info": {
   "codemirror_mode": {
    "name": "ipython",
    "version": 3
   },
   "file_extension": ".py",
   "mimetype": "text/x-python",
   "name": "python",
   "nbconvert_exporter": "python",
   "pygments_lexer": "ipython3",
   "version": "3.9.12"
  }
 },
 "nbformat": 4,
 "nbformat_minor": 5
}
