{
 "cells": [
  {
   "cell_type": "markdown",
   "id": "f5511702",
   "metadata": {},
   "source": [
    "1.Write a Python Program to Display Fibonacci Sequence Using Recursion"
   ]
  },
  {
   "cell_type": "code",
   "execution_count": null,
   "id": "ad8bd661",
   "metadata": {},
   "outputs": [],
   "source": [
    "def recursion_fibo(n):  \n",
    "    if n <= 1:  \n",
    "        return n  \n",
    "    else:  \n",
    "        return(recursion_fibo(n-1) + recursion_fibo(n-2))  \n",
    "\n",
    "nterms = int(input(\"How many terms? \"))  \n",
    "  \n",
    "if nterms <= 0:  \n",
    "    print(\"Plese enter a positive integer\")  \n",
    "else:  \n",
    "    print(\"Fibonacci sequence:\")  \n",
    "    for i in range(nterms):  \n",
    "        print(recursion_fibo(i))  "
   ]
  },
  {
   "cell_type": "markdown",
   "id": "75218be9",
   "metadata": {},
   "source": [
    "2.Write a Python Program to Find Factorial of Number Using Recursion"
   ]
  },
  {
   "cell_type": "code",
   "execution_count": null,
   "id": "5ea4ace6",
   "metadata": {},
   "outputs": [],
   "source": [
    "def recursion_factorial(n):\n",
    "    if n == 1:\n",
    "        return n\n",
    "    else:\n",
    "        return n*recursion_factorial(n-1)\n",
    "\n",
    "n = 7\n",
    "\n",
    "if n < 0:\n",
    "    print(\"Sorry, factorial does not exist for negative numbers\")\n",
    "elif n == 0:\n",
    "    print(\"The factorial of 0 is 1\")\n",
    "else:\n",
    "    print(\"The factorial of\", n, \"is\", recursion_factorial(n))"
   ]
  },
  {
   "cell_type": "markdown",
   "id": "7dc746a5",
   "metadata": {},
   "source": [
    "3.Write a Python Program to calculate your Body Mass Index"
   ]
  },
  {
   "cell_type": "code",
   "execution_count": 2,
   "id": "acffdf93",
   "metadata": {},
   "outputs": [
    {
     "name": "stdout",
     "output_type": "stream",
     "text": [
      "Enter the height in meters: 1.68\n",
      "Enter the weight in kg: 78\n",
      "The BMI is 27.636054421768712 so overweight\n"
     ]
    }
   ],
   "source": [
    "def BMI(height, weight):\n",
    "    bmi = weight/(height**2)\n",
    "    return bmi\n",
    " \n",
    "\n",
    "height = float(input(\"Enter the height in meters: \"))\n",
    "weight = float(input(\"Enter the weight in kg: \"))\n",
    " \n",
    "bmi = BMI(height, weight)\n",
    "print(\"The BMI is\", format(bmi), \"so \", end='')\n",
    "\n",
    "if (bmi < 18.5):\n",
    "    print(\"underweight\")\n",
    "\n",
    "elif ( bmi >= 18.5 and bmi < 24.9):\n",
    "    print(\"Healthy\")\n",
    "\n",
    "elif ( bmi >= 24.9 and bmi < 30):\n",
    "    print(\"overweight\")\n",
    "\n",
    "elif ( bmi >=30):\n",
    "    print(\"Suffering from Obesity\")"
   ]
  },
  {
   "cell_type": "markdown",
   "id": "76e41dc1",
   "metadata": {},
   "source": [
    "4.Write a Python Program to calculate the natural logarithm of any number"
   ]
  },
  {
   "cell_type": "code",
   "execution_count": 4,
   "id": "c3cb182e",
   "metadata": {},
   "outputs": [
    {
     "name": "stdout",
     "output_type": "stream",
     "text": [
      "Enter the number: 14\n",
      "Logarithm base 2 of 14 is : 3.807354922057604\n",
      "Logarithm base e of 14 is : 2.6390573296152584\n"
     ]
    }
   ],
   "source": [
    "import math\n",
    "\n",
    "n = int(input(\"Enter the number: \"))\n",
    "\n",
    "print (\"Logarithm base 2 of\", n, \"is : \", end=\"\")\n",
    "print (math.log2(n))\n",
    "\n",
    "print (\"Logarithm base e of\", n, \"is : \", end=\"\")\n",
    "print (math.log(n))"
   ]
  },
  {
   "cell_type": "markdown",
   "id": "50d27327",
   "metadata": {},
   "source": [
    "5.Write a Python Program for cube sum of first n natural numbers"
   ]
  },
  {
   "cell_type": "code",
   "execution_count": 7,
   "id": "c3409832",
   "metadata": {},
   "outputs": [
    {
     "name": "stdout",
     "output_type": "stream",
     "text": [
      "Enter a number: 6\n",
      "441\n"
     ]
    }
   ],
   "source": [
    "def sumOfCubes(n):\n",
    "    sum = 0\n",
    "    for i in range(1, n+1):\n",
    "        sum +=pow(i,3)\n",
    "         \n",
    "    return sum\n",
    "\n",
    "n = int(input(\"Enter a number: \"))\n",
    "print(sumOfCubes(n))"
   ]
  }
 ],
 "metadata": {
  "kernelspec": {
   "display_name": "Python 3 (ipykernel)",
   "language": "python",
   "name": "python3"
  },
  "language_info": {
   "codemirror_mode": {
    "name": "ipython",
    "version": 3
   },
   "file_extension": ".py",
   "mimetype": "text/x-python",
   "name": "python",
   "nbconvert_exporter": "python",
   "pygments_lexer": "ipython3",
   "version": "3.9.12"
  }
 },
 "nbformat": 4,
 "nbformat_minor": 5
}
